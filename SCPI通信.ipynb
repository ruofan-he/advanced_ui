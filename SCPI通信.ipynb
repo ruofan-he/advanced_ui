{
 "cells": [
  {
   "cell_type": "code",
   "execution_count": 104,
   "metadata": {},
   "outputs": [],
   "source": [
    "import ipywidgets as widgets\n",
    "from IPython.display import display\n",
    "from matplotlib import pyplot as plt\n",
    "from ipyfilechooser import FileChooser\n",
    "import pyvisa\n",
    "import numpy as np"
   ]
  },
  {
   "cell_type": "code",
   "execution_count": 105,
   "metadata": {},
   "outputs": [],
   "source": [
    "def device_list():\n",
    "    rm = pyvisa.ResourceManager()\n",
    "    for device_address in rm.list_resources():\n",
    "        print(device_address)\n",
    "\n",
    "def identity():\n",
    "    global device_address\n",
    "    rm = pyvisa.ResourceManager()\n",
    "    with rm.open_resource(device_address) as instr:\n",
    "        print(instr.query('*IDN?'))\n",
    "\n",
    "def write():\n",
    "    global device_address\n",
    "    global command\n",
    "    rm = pyvisa.ResourceManager()\n",
    "    with rm.open_resource(device_address) as instr:\n",
    "        print('>'+command)\n",
    "        print(instr.write(command))\n",
    "\n",
    "def query():\n",
    "    global device_address\n",
    "    global command\n",
    "    global result\n",
    "    rm = pyvisa.ResourceManager()\n",
    "    with rm.open_resource(device_address) as instr:\n",
    "        print('>'+command)\n",
    "        result = instr.query(command)\n",
    "        print(result)\n",
    "\n",
    "def result_plot():\n",
    "    global result\n",
    "    plt.plot(list(map(float,result.split(','))))\n",
    "    plt.show()"
   ]
  },
  {
   "cell_type": "code",
   "execution_count": 108,
   "metadata": {},
   "outputs": [],
   "source": [
    "from optparse import Option\n",
    "\n",
    "\n",
    "def simple_ui():\n",
    "    button_clear_output = widgets.Button(description='表示クリア')\n",
    "    button_device_list = widgets.Button(description='デバイスリスト')\n",
    "    button_identity = widgets.Button(description='IDN')\n",
    "    button_write = widgets.Button(description='write')\n",
    "    button_query = widgets.Button(description='query')\n",
    "    button_result_plot = widgets.Button(description='簡易プロット')\n",
    "    \n",
    "\n",
    "    filechooser = FileChooser('./')\n",
    "    text_address = widgets.Combobox(value='',placeholder='visa',description='アドレス',disabled=False, layout= widgets.Layout(width='100%'))\n",
    "    text_command = widgets.Combobox(value='',placeholder='scip',description='コマンド',disabled=False, layout= widgets.Layout(width='100%') )\n",
    "\n",
    "    def add_address():\n",
    "        rm = pyvisa.ResourceManager()\n",
    "        text_address.options = tuple(rm.list_resources())\n",
    "\n",
    "    def add_history():\n",
    "        text_command.options += (text_command.value,)\n",
    "\n",
    "    output = widgets.Output(layour={'border': '1px solid black'})\n",
    "    def wrapped_func_factory(func):\n",
    "        if type(func) is not list: func = [func]\n",
    "        def new_func(ui_element):\n",
    "            with output:\n",
    "                for f in func:\n",
    "                    print(f\"exec func {f.__name__}\")\n",
    "                    f()\n",
    "                    print(f\"complete {f.__name__}\")\n",
    "        return new_func\n",
    "    button_clear_output.on_click(lambda button: output.clear_output(wait=False))\n",
    "    button_device_list.on_click(wrapped_func_factory([add_address,device_list]))\n",
    "    button_identity.on_click(wrapped_func_factory(identity))\n",
    "    button_write.on_click(wrapped_func_factory([add_history, write]))\n",
    "    button_query.on_click(wrapped_func_factory([add_history, query]))\n",
    "    button_result_plot.on_click(wrapped_func_factory(result_plot))\n",
    "\n",
    "    \n",
    "    def load_input_field():\n",
    "        global device_address\n",
    "        global command\n",
    "        device_address = text_address.value\n",
    "        command = text_command.value\n",
    "    text_command.observe(lambda element: load_input_field())\n",
    "    text_address.observe(lambda element: load_input_field())\n",
    "    \n",
    "    display(\n",
    "        widgets.HBox([button_clear_output,button_device_list,button_identity,button_write, button_query, button_result_plot]),\n",
    "        widgets.HBox([filechooser,  ]),\n",
    "        widgets.HBox([text_address]),\n",
    "        widgets.HBox([text_command]),\n",
    "        output)"
   ]
  },
  {
   "cell_type": "code",
   "execution_count": 109,
   "metadata": {},
   "outputs": [
    {
     "data": {
      "application/vnd.jupyter.widget-view+json": {
       "model_id": "2e38fa71fc07439094c8baad25f5e994",
       "version_major": 2,
       "version_minor": 0
      },
      "text/plain": [
       "HBox(children=(Button(description='表示クリア', style=ButtonStyle()), Button(description='デバイスリスト', style=ButtonSty…"
      ]
     },
     "metadata": {},
     "output_type": "display_data"
    },
    {
     "data": {
      "application/vnd.jupyter.widget-view+json": {
       "model_id": "8d262526e0d84f508d147a1750e7039e",
       "version_major": 2,
       "version_minor": 0
      },
      "text/plain": [
       "HBox(children=(FileChooser(path='C:\\Users\\pulse\\Desktop\\spe_ana', filename='', title='', show_hidden=False, se…"
      ]
     },
     "metadata": {},
     "output_type": "display_data"
    },
    {
     "data": {
      "application/vnd.jupyter.widget-view+json": {
       "model_id": "931334c3d4264621836a86c82360f355",
       "version_major": 2,
       "version_minor": 0
      },
      "text/plain": [
       "HBox(children=(Combobox(value='', description='アドレス', layout=Layout(width='100%'), placeholder='visa'),))"
      ]
     },
     "metadata": {},
     "output_type": "display_data"
    },
    {
     "data": {
      "application/vnd.jupyter.widget-view+json": {
       "model_id": "8bd4275f4b8e437b9c206e575694b9e1",
       "version_major": 2,
       "version_minor": 0
      },
      "text/plain": [
       "HBox(children=(Combobox(value='', description='コマンド', layout=Layout(width='100%'), placeholder='scip'),))"
      ]
     },
     "metadata": {},
     "output_type": "display_data"
    },
    {
     "data": {
      "application/vnd.jupyter.widget-view+json": {
       "model_id": "00e7f5d4aafd4e58bec1187fb641ebaa",
       "version_major": 2,
       "version_minor": 0
      },
      "text/plain": [
       "Output()"
      ]
     },
     "metadata": {},
     "output_type": "display_data"
    }
   ],
   "source": [
    "simple_ui()"
   ]
  }
 ],
 "metadata": {
  "interpreter": {
   "hash": "7fea6797d8f82b94e936f25fbeb4417e6e79b305666ec97e0d70046810b8edd2"
  },
  "kernelspec": {
   "display_name": "Python 3.10.2 64-bit",
   "language": "python",
   "name": "python3"
  },
  "language_info": {
   "codemirror_mode": {
    "name": "ipython",
    "version": 3
   },
   "file_extension": ".py",
   "mimetype": "text/x-python",
   "name": "python",
   "nbconvert_exporter": "python",
   "pygments_lexer": "ipython3",
   "version": "3.10.2"
  },
  "orig_nbformat": 4
 },
 "nbformat": 4,
 "nbformat_minor": 2
}
