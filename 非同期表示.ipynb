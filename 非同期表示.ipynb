{
 "cells": [
  {
   "cell_type": "code",
   "execution_count": 1,
   "metadata": {},
   "outputs": [],
   "source": [
    "import ipywidgets as widgets\n",
    "from IPython.display import display\n",
    "from matplotlib import pyplot as plt\n",
    "from ipyfilechooser import FileChooser\n",
    "import pyvisa\n",
    "import numpy as np"
   ]
  },
  {
   "cell_type": "code",
   "execution_count": 2,
   "metadata": {},
   "outputs": [],
   "source": [
    "import threading\n",
    "import io\n",
    "from time import sleep\n",
    "\n",
    "def sub_func():\n",
    "    global display_list\n",
    "    global stop_flag\n",
    "    while not stop_flag:\n",
    "        with io.StringIO() as f:\n",
    "            print('first hello', file=f)\n",
    "            display_list.append(f.getvalue())\n",
    "        sleep(0.5)\n",
    "\n",
    "def start():\n",
    "    global stop_flag\n",
    "    stop_flag = False\n",
    "    threading.Thread(target=sub_func).start()\n",
    "\n",
    "def stop():\n",
    "    global stop_flag\n",
    "    stop_flag = True\n",
    "\n",
    "def play():\n",
    "    global display_list\n",
    "    for i in display_list:\n",
    "        print(i, end=\"\")\n",
    "    display_list = []"
   ]
  },
  {
   "cell_type": "code",
   "execution_count": 3,
   "metadata": {},
   "outputs": [],
   "source": [
    "def simple_ui():\n",
    "    button_clear_output = widgets.Button(description='表示クリア')\n",
    "    button_start = widgets.Button(description='スタート')\n",
    "    button_stop = widgets.Button(description='ストップ')\n",
    "    button_play = widgets.Button(description='プレイ')\n",
    "    \n",
    "\n",
    "    output = widgets.Output(layour={'border': '1px solid black'})\n",
    "\n",
    "    global display_list\n",
    "    display_list = []\n",
    "\n",
    "    def wrapped_func_factory(func):\n",
    "        if type(func) is not list: func = [func]\n",
    "        def new_func(ui_element):\n",
    "            with output:\n",
    "                for f in func:\n",
    "                    print(f\"exec func {f.__name__}\")\n",
    "                    f()\n",
    "                    print(f\"complete {f.__name__}\")\n",
    "        return new_func\n",
    "    button_clear_output.on_click(lambda button: output.clear_output(wait=False))\n",
    "    button_start.on_click(wrapped_func_factory(start))\n",
    "    button_stop.on_click(wrapped_func_factory(stop))\n",
    "    button_play.on_click(wrapped_func_factory(play))\n",
    "\n",
    "\n",
    "    display(\n",
    "        widgets.HBox([button_clear_output,button_start, button_stop, button_play]),\n",
    "        output)\n",
    "        "
   ]
  },
  {
   "cell_type": "code",
   "execution_count": 4,
   "metadata": {},
   "outputs": [
    {
     "data": {
      "application/vnd.jupyter.widget-view+json": {
       "model_id": "39a3d755f6aa4e20a541ac9f49e149ce",
       "version_major": 2,
       "version_minor": 0
      },
      "text/plain": [
       "HBox(children=(Button(description='表示クリア', style=ButtonStyle()), Button(description='スタート', style=ButtonStyle(…"
      ]
     },
     "metadata": {},
     "output_type": "display_data"
    },
    {
     "data": {
      "application/vnd.jupyter.widget-view+json": {
       "model_id": "3544c39e002e450d8c2d94655713536b",
       "version_major": 2,
       "version_minor": 0
      },
      "text/plain": [
       "Output()"
      ]
     },
     "metadata": {},
     "output_type": "display_data"
    }
   ],
   "source": [
    "simple_ui()"
   ]
  }
 ],
 "metadata": {
  "kernelspec": {
   "display_name": "Python 3.9.0 64-bit",
   "language": "python",
   "name": "python3"
  },
  "language_info": {
   "codemirror_mode": {
    "name": "ipython",
    "version": 3
   },
   "file_extension": ".py",
   "mimetype": "text/x-python",
   "name": "python",
   "nbconvert_exporter": "python",
   "pygments_lexer": "ipython3",
   "version": "3.9.0"
  },
  "orig_nbformat": 4,
  "vscode": {
   "interpreter": {
    "hash": "4b4f216789f43f43ecc591a377bc2a7b5f02c99d00f656b444c8198c606cc60c"
   }
  }
 },
 "nbformat": 4,
 "nbformat_minor": 2
}
