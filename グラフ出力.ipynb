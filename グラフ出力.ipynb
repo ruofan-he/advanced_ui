{
 "cells": [
  {
   "cell_type": "code",
   "execution_count": null,
   "metadata": {},
   "outputs": [],
   "source": [
    "from matplotlib import pyplot as plt\n",
    "import numpy as np\n",
    "import pickle\n",
    "import io\n",
    "import ipywidgets as widgets\n",
    "from IPython.display import display\n"
   ]
  },
  {
   "cell_type": "code",
   "execution_count": null,
   "metadata": {},
   "outputs": [],
   "source": [
    "def show_gui():\n",
    "    current_fig = plt.gcf()\n",
    "    buf = io.BytesIO()\n",
    "    pickle.dump(current_fig, buf)\n",
    "    buf.seek(0)\n",
    "    fig_copy = pickle.load(buf)\n",
    "    plt.close()\n",
    "    buf.close()\n",
    "    button_save = widgets.Button(description='save')\n",
    "    text_filename = widgets.Text(value='',placeholder='文字を入力',description='filename',disabled=False,style={'description_width': 'initial'})\n",
    "    def save(element):\n",
    "        plt.get_current_fig_manager().canvas.figure = fig_copy\n",
    "        plt.savefig(text_filename.value)\n",
    "        plt.close()\n",
    "    button_save.on_click(save)\n",
    "    display(\n",
    "        widgets.HBox([text_filename, button_save])\n",
    "    )\n",
    "    plt.show()\n",
    "    plt.close()\n",
    "    \n",
    "plt.show_gui = show_gui"
   ]
  },
  {
   "cell_type": "code",
   "execution_count": null,
   "metadata": {},
   "outputs": [],
   "source": [
    "fig1 = plt.figure()\n",
    "plt.get_current_fig_manager().canvas.figure = fig1\n",
    "plt.plot([1,2,3,1,2,3])\n",
    "plt.show_gui()\n",
    "\n",
    "fig2 = plt.figure()\n",
    "plt.get_current_fig_manager().canvas.figure = fig2\n",
    "plt.plot([3,2,1,3,2,1])\n",
    "plt.show_gui()"
   ]
  }
 ],
 "metadata": {
  "kernelspec": {
   "display_name": "Python 3",
   "language": "python",
   "name": "python3"
  },
  "language_info": {
   "codemirror_mode": {
    "name": "ipython",
    "version": 3
   },
   "file_extension": ".py",
   "mimetype": "text/x-python",
   "name": "python",
   "nbconvert_exporter": "python",
   "pygments_lexer": "ipython3",
   "version": "3.9.0"
  },
  "orig_nbformat": 4,
  "vscode": {
   "interpreter": {
    "hash": "4b4f216789f43f43ecc591a377bc2a7b5f02c99d00f656b444c8198c606cc60c"
   }
  }
 },
 "nbformat": 4,
 "nbformat_minor": 2
}
