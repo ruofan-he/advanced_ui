{
 "cells": [
  {
   "cell_type": "code",
   "execution_count": 1,
   "metadata": {},
   "outputs": [],
   "source": [
    "from tomography import maxlike, Wigner_fock\n",
    "import numpy as np\n",
    "from matplotlib import pyplot as plt\n",
    "from matplotlib import cm\n",
    "from igorwriter import IgorWave\n",
    "import ipywidgets as widgets\n",
    "from IPython.display import display\n",
    "from ipyfilechooser import FileChooser"
   ]
  },
  {
   "cell_type": "code",
   "execution_count": 2,
   "metadata": {},
   "outputs": [],
   "source": [
    "def pca(time_array):\n",
    "    time_array = time_array - np.average(time_array)\n",
    "    mat = time_array.T.dot(time_array)\n",
    "    w,v = np.linalg.eigh(mat)\n",
    "    return w[::-1], v[:,::-1]\n",
    "\n",
    "def plot_bar3d_rho():\n",
    "    global rho\n",
    "    global elev, azim\n",
    "    fig = plt.figure(figsize=(6, 3))\n",
    "    ax1 = fig.add_subplot(121, projection='3d')\n",
    "    X,Y = np.meshgrid(np.arange(rho.shape[0]), np.arange(rho.shape[1]))\n",
    "    x,y,z = X.ravel(), Y.ravel(), np.zeros(X.size)\n",
    "\n",
    "    dx,dy,dz_re = np.ones(X.size),np.ones(Y.size),np.real(rho).ravel()\n",
    "    ax1.bar3d(x,y,z,dx,dy,dz_re)\n",
    "    ax1.set_zlabel('Density matrix (real)')\n",
    "    ax1.set_zlim(-1, 1)\n",
    "    ax1.view_init(elev=elev, azim=-azim)\n",
    "\n",
    "    ax2 = fig.add_subplot(122, projection='3d')\n",
    "    dx,dy,dz_im = np.ones(X.size),np.ones(Y.size),np.imag(rho).ravel()\n",
    "    ax2.bar3d(x,y,z,dx,dy,dz_im)\n",
    "    ax2.set_zlabel(\"Density matrix (imag)\")\n",
    "    ax2.set_zlim(-1,1)\n",
    "    ax2.view_init(elev=elev, azim=-azim)\n",
    "    plt.show()\n",
    "    \n",
    "def calc_wigner_rho():\n",
    "    global rho\n",
    "    global wigner\n",
    "    w_pp = Wigner_fock(rho.shape[0]-1, 5, 0.01)\n",
    "    x = np.linspace(-5, 5, 101)\n",
    "    X,Y = np.meshgrid(x, x)\n",
    "    wigner = w_pp.wigner_rho(rho, X, Y)\n",
    "\n",
    "def plot_wigner():\n",
    "    global wigner\n",
    "    global elev, azim\n",
    "    x = np.linspace(-5, 5, 101)\n",
    "    X,Y = np.meshgrid(x, x)\n",
    "    f = plt.figure(figsize=(5,5))\n",
    "    ax_3d = f.add_subplot(111, projection='3d')\n",
    "    surf = ax_3d.plot_surface(X, Y, wigner.real, cmap=cm.bwr, linewidth=0, antialiased=False)\n",
    "    ax_3d.set_xlabel('X')\n",
    "    ax_3d.set_ylabel('P')\n",
    "    ax_3d.view_init(elev=elev, azim=-azim)\n",
    "    f.colorbar(surf, shrink=0.5, aspect=5)\n",
    "    plt.show()\n",
    "\n",
    "\n",
    "def init():\n",
    "    global q_files\n",
    "    global l_degs\n",
    "    global shot_file\n",
    "    q_files = []\n",
    "    l_degs = []\n",
    "    shot_file = ''\n",
    "\n",
    "def tomography():\n",
    "    global q_files\n",
    "    global l_degs\n",
    "    global shot_file\n",
    "    global pulse_id\n",
    "    global rho\n",
    "    \n",
    "    quadratures = []\n",
    "    phases = []\n",
    "\n",
    "    for q_filename, ph in zip(q_files, l_degs):\n",
    "        quad = np.loadtxt(q_filename)[:,pulse_id]\n",
    "        quadratures += quad.tolist()\n",
    "        phases += (ph*np.ones_like(quad)*np.pi/180.0).tolist()\n",
    "\n",
    "    shot = np.loadtxt(shot_file)[:,pulse_id]\n",
    "\n",
    "    q_normalize = lambda quadratures, shot, hbar=1: (np.array(quadratures) - np.array(shot).mean())/np.array(shot).std() * np.sqrt(hbar/2)\n",
    "    quadratures = q_normalize(quadratures, shot).tolist()\n",
    "\n",
    "    rho = maxlike(np.array(quadratures).ravel(), np.array(phases).ravel(), max_photon=14, conv_th=1e-15)\n",
    "\n",
    "    plot_bar3d_rho()\n",
    "    plt.show()\n",
    "\n",
    "\n",
    "\n",
    "def save_rho():\n",
    "    global rho\n",
    "    global comment\n",
    "    filename_rho = 'rho_' + comment   + '.npy'\n",
    "    np.save(filename_rho,rho)\n",
    "\n",
    "def save_wigner():\n",
    "    global wigner\n",
    "    global comment\n",
    "    filename_wigner = 'wigner_' + comment + '.npy'\n",
    "    np.save(filename_wigner, wigner.real)\n",
    "\n",
    "def save_wigner_itx():\n",
    "    global wigner\n",
    "    global comment\n",
    "    filename_wigner_itx = 'wigner_' + comment + '.itx'\n",
    "    wave = IgorWave(wigner.real, name='wigner_' + comment)\n",
    "    wave.set_dimscale('x', -5,0.1)\n",
    "    wave.set_dimscale('y', -5,0.1)\n",
    "    wave.save_itx(filename_wigner_itx, image=True)\n"
   ]
  },
  {
   "cell_type": "code",
   "execution_count": 3,
   "metadata": {},
   "outputs": [],
   "source": [
    "from textwrap import wrap\n",
    "\n",
    "\n",
    "def simple_ui():\n",
    "    button_clear_output = widgets.Button(description='表示クリア')\n",
    "    button_init = widgets.Button(description='初期化')\n",
    "    button_tomography = widgets.Button(description='トモグラフィー')\n",
    "    button_rho_plot = widgets.Button(description='rhoプロット')\n",
    "    button_wigner_rho = widgets.Button(description='計算rho→wigner')\n",
    "    button_wigner_plot = widgets.Button(description='wignerプロット')\n",
    "    button_save_rho = widgets.Button(description='rho保存')\n",
    "    button_save_wigner = widgets.Button(description='wigner保存')\n",
    "    button_save_wigner_itx = widgets.Button(description='wigner→itx保存')\n",
    "    filechooser = FileChooser('./')\n",
    "    float_quad_deg = widgets.FloatText(value=0,description='角度deg')\n",
    "    button_add_to_q_files = widgets.Button(description='q_files追加')\n",
    "    button_add_to_shot_file = widgets.Button(description='shot_file追加')\n",
    "    button_load_as_rho_npy = widgets.Button(description='rho.npy読込')\n",
    "    button_load_as_wigner_npy = widgets.Button(description='wigner.npy読込')\n",
    "    button_input_field = widgets.Button(description='変数反映')\n",
    "\n",
    "    text_comment = widgets.Text(value='',placeholder='文字を入力',description='comment',disabled=False)\n",
    "    int_pulse_id = widgets.IntText(value=0,description='pulse_id')\n",
    "    int_elev = widgets.IntText(value=10,description='elev')\n",
    "    int_azim = widgets.IntText(value=60,description='azim')\n",
    "\n",
    "    output = widgets.Output(layour={'border': '1px solid black'})\n",
    "    def wrapped_func_factory(func):\n",
    "        def new_func(ui_element):\n",
    "            with output:\n",
    "                print(f\"exec func {func.__name__}\")\n",
    "                func()\n",
    "                print(f\"complete {func.__name__}\")\n",
    "        return new_func\n",
    "    button_clear_output.on_click(lambda button: output.clear_output(wait=False))\n",
    "    button_init.on_click(wrapped_func_factory(init))\n",
    "    button_tomography.on_click(wrapped_func_factory(tomography))\n",
    "    button_rho_plot.on_click(wrapped_func_factory(plot_bar3d_rho))\n",
    "    button_wigner_rho.on_click(wrapped_func_factory(calc_wigner_rho))\n",
    "    button_wigner_plot.on_click(wrapped_func_factory(plot_wigner))\n",
    "    button_save_rho.on_click(wrapped_func_factory(save_rho))\n",
    "    button_save_wigner.on_click(wrapped_func_factory(save_wigner))\n",
    "    button_save_wigner_itx.on_click(wrapped_func_factory(save_wigner_itx))\n",
    "\n",
    "    def load_npy_factory(variable_name):\n",
    "        def load_npy():\n",
    "            choosed_file_path = filechooser.selected\n",
    "            global rho, wigner\n",
    "            if variable_name == 'rho':\n",
    "                rho = np.load(choosed_file_path)\n",
    "                print(f'rho.shape={rho.shape}')\n",
    "            elif variable_name == 'wigner':\n",
    "                wigner = np.load(choosed_file_path)\n",
    "                print(f'wigner.shape={wigner.shape}')\n",
    "        return load_npy\n",
    "    def edit_path_factory(variable_name):\n",
    "        def edit_path():\n",
    "            choosed_file_path = filechooser.selected\n",
    "            global q_files,shot_file, l_degs\n",
    "            if variable_name == 'q_files':\n",
    "                q_files.append(choosed_file_path)\n",
    "                l_degs.append(float_quad_deg.value)\n",
    "            elif variable_name == 'shot_file':\n",
    "                shot_file = choosed_file_path\n",
    "            print(f\"shot_file {shot_file}\")\n",
    "            print('q_files')\n",
    "            for i, j in zip(q_files,l_degs):\n",
    "                print(i,j)\n",
    "        return edit_path\n",
    "            \n",
    "    button_add_to_q_files.on_click(wrapped_func_factory(edit_path_factory('q_files')))\n",
    "    button_add_to_shot_file.on_click(wrapped_func_factory(edit_path_factory('shot_file')))\n",
    "    button_load_as_rho_npy.on_click(wrapped_func_factory(load_npy_factory('rho')))\n",
    "    button_load_as_wigner_npy.on_click(wrapped_func_factory(load_npy_factory('wigner')))\n",
    "        \n",
    "    \n",
    "    def load_input_field():\n",
    "        global comment\n",
    "        global pulse_id\n",
    "        global elev, azim\n",
    "        comment = text_comment.value\n",
    "        pulse_id = int_pulse_id.value\n",
    "        elev = int_elev.value\n",
    "        azim = int_azim.value\n",
    "    button_input_field.on_click(lambda button: load_input_field())\n",
    "    \n",
    "    display(\n",
    "        widgets.HBox([button_clear_output,button_init,button_tomography,button_rho_plot,button_wigner_rho, button_wigner_plot, button_save_rho, button_save_wigner]),\n",
    "        widgets.HBox([button_save_wigner_itx]),\n",
    "        widgets.HBox([filechooser,float_quad_deg , button_add_to_q_files, button_add_to_shot_file,button_load_as_rho_npy,button_load_as_wigner_npy]),\n",
    "        widgets.HBox([text_comment,int_pulse_id,int_elev,int_azim,button_input_field]),\n",
    "        output)\n"
   ]
  },
  {
   "cell_type": "code",
   "execution_count": 21,
   "metadata": {},
   "outputs": [
    {
     "data": {
      "application/vnd.jupyter.widget-view+json": {
       "model_id": "db20fd2d78de4cdaab70cf2bcfc64083",
       "version_major": 2,
       "version_minor": 0
      },
      "text/plain": [
       "HBox(children=(Button(description='表示クリア', style=ButtonStyle()), Button(description='初期化', style=ButtonStyle()…"
      ]
     },
     "metadata": {},
     "output_type": "display_data"
    },
    {
     "data": {
      "application/vnd.jupyter.widget-view+json": {
       "model_id": "f3cc4c1f64fb498ebfd95a8873e4007c",
       "version_major": 2,
       "version_minor": 0
      },
      "text/plain": [
       "HBox(children=(Button(description='wigner→itx保存', style=ButtonStyle()),))"
      ]
     },
     "metadata": {},
     "output_type": "display_data"
    },
    {
     "data": {
      "application/vnd.jupyter.widget-view+json": {
       "model_id": "8fb7972ec9ea4fd79a7aac3c1f77cbb5",
       "version_major": 2,
       "version_minor": 0
      },
      "text/plain": [
       "HBox(children=(FileChooser(path='C:\\Users\\pulse\\Documents\\data\\20220908', filename='', title='', show_hidden=F…"
      ]
     },
     "metadata": {},
     "output_type": "display_data"
    },
    {
     "data": {
      "application/vnd.jupyter.widget-view+json": {
       "model_id": "f0622d16a0164f3cbd6b634f4ad224ef",
       "version_major": 2,
       "version_minor": 0
      },
      "text/plain": [
       "HBox(children=(Text(value='', description='comment', placeholder='文字を入力'), IntText(value=0, description='pulse…"
      ]
     },
     "metadata": {},
     "output_type": "display_data"
    },
    {
     "data": {
      "application/vnd.jupyter.widget-view+json": {
       "model_id": "0c6a75fcaafb48019cd0411a8016aebc",
       "version_major": 2,
       "version_minor": 0
      },
      "text/plain": [
       "Output()"
      ]
     },
     "metadata": {},
     "output_type": "display_data"
    }
   ],
   "source": [
    "simple_ui()"
   ]
  }
 ],
 "metadata": {
  "kernelspec": {
   "display_name": "Python 3.10.2 64-bit",
   "language": "python",
   "name": "python3"
  },
  "language_info": {
   "codemirror_mode": {
    "name": "ipython",
    "version": 3
   },
   "file_extension": ".py",
   "mimetype": "text/x-python",
   "name": "python",
   "nbconvert_exporter": "python",
   "pygments_lexer": "ipython3",
   "version": "3.10.2"
  },
  "orig_nbformat": 4,
  "vscode": {
   "interpreter": {
    "hash": "7fea6797d8f82b94e936f25fbeb4417e6e79b305666ec97e0d70046810b8edd2"
   }
  }
 },
 "nbformat": 4,
 "nbformat_minor": 2
}
