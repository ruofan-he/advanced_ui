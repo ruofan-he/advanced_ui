{
 "cells": [
  {
   "cell_type": "code",
   "execution_count": null,
   "metadata": {},
   "outputs": [],
   "source": [
    "from matplotlib import pyplot as plt\n",
    "import numpy as np\n",
    "import ipywidgets as widgets\n",
    "\n",
    "from IPython.display import display\n",
    "from ipyfilechooser import FileChooser\n",
    "from time import sleep\n",
    "import thorlabs_apt as apt\n",
    "\n",
    "import plotly.express as px\n",
    "import plotly.graph_objects as go\n",
    "from plotly.subplots import make_subplots\n",
    "import plotly.io as pio\n",
    "pio.renderers.default='notebook' # for vscode ,maybe 'colab' on jupyterlab "
   ]
  },
  {
   "cell_type": "code",
   "execution_count": null,
   "metadata": {},
   "outputs": [],
   "source": [
    "def apt_device_list():\n",
    "    print(apt.list_available_devices())\n",
    "\n",
    "def stage_move_to():\n",
    "    global stage_serial_num\n",
    "    global stage_target_pos\n",
    "    motor = apt.Motor(stage_serial_num)\n",
    "    motor.move_to(stage_target_pos, blocking=True)\n",
    "\n",
    "def stage_velocity():\n",
    "    global stage_serial_num\n",
    "    global stage_max_velocity\n",
    "    motor = apt.Motor(stage_serial_num)\n",
    "    min_v, acc, max_v = motor.get_velocity_parameters()\n",
    "    motor.set_velocity_parameters(min_v, acc, stage_max_velocity)\n",
    "\n",
    "\n",
    "    "
   ]
  },
  {
   "cell_type": "code",
   "execution_count": null,
   "metadata": {},
   "outputs": [],
   "source": [
    "\n",
    "\n",
    "def simple_ui():\n",
    "    button_clear_output = widgets.Button(description='表示クリア')\n",
    "    button_apt_device_list = widgets.Button(description='apt_device_list')\n",
    "    button_stage_move_to = widgets.Button(description='stage_move_to')\n",
    "    button_stage_velocity = widgets.Button(description='stage_velocity')\n",
    "    filechooser = FileChooser('./')\n",
    "    button_load_as_wdata_npy = widgets.Button(description='wdata.npyとして読込')\n",
    "    button_load_as_tdata_npy = widgets.Button(description='tdata.npyとして読込')\n",
    "    button_input_field = widgets.Button(description='強制変数反映',disabled=False)\n",
    "\n",
    "    text_comment = widgets.Text(value='',placeholder='文字を入力',description='comment',disabled=False,style={'description_width': 'initial'})\n",
    "    text_stage_serial_num = widgets.Text(value='28252436',placeholder='28252436',description='stage_serial_num',disabled=False, style={'description_width': 'initial'})\n",
    "    float_stage_target_pos = widgets.FloatText(value=0,description='stage_target_pos',disabled=False,style={'description_width': 'initial'})\n",
    "    float_stage_max_velocity = widgets.FloatText(value=99,description='stage_max_velocity',disabled=False,style={'description_width': 'initial'})\n",
    "\n",
    "\n",
    "\n",
    "    output = widgets.Output(layour={'border': '1px solid black'})\n",
    "    def wrapped_func_factory(func,verbose=True):\n",
    "        def new_func(ui_element):\n",
    "            with output:\n",
    "                if verbose: print(f\"exec func {func.__name__}\")\n",
    "                func()\n",
    "                if verbose: print(f\"complete {func.__name__}\")\n",
    "        return new_func\n",
    "    button_clear_output.on_click(lambda button: output.clear_output(wait=False))\n",
    "\n",
    "    def load_npy_factory(variable_name):\n",
    "        def load_npy():\n",
    "            choosed_file_path = filechooser.selected\n",
    "            global w, t\n",
    "            if variable_name == 'w':\n",
    "                w = np.load(choosed_file_path)\n",
    "                print(f'w.shape={w.shape}')\n",
    "            elif variable_name == 't':\n",
    "                t = np.load(choosed_file_path)\n",
    "                print(f't.shape={t.shape}')\n",
    "        return load_npy\n",
    "        \n",
    "    button_load_as_wdata_npy.on_click(wrapped_func_factory(load_npy_factory('w')))\n",
    "    button_load_as_tdata_npy.on_click(wrapped_func_factory(load_npy_factory('t')))\n",
    "    \n",
    "    def load_input_field():\n",
    "        global comment\n",
    "        global stage_serial_num\n",
    "        global stage_target_pos\n",
    "        global stage_max_velocity\n",
    "        comment = text_comment.value\n",
    "        stage_serial_num = int(text_stage_serial_num.value)\n",
    "        stage_target_pos = float_stage_target_pos.value\n",
    "        stage_max_velocity = float_stage_max_velocity.value\n",
    "    button_input_field.on_click(wrapped_func_factory(load_input_field,verbose=False))\n",
    "    button_apt_device_list.on_click(wrapped_func_factory(apt_device_list))\n",
    "    button_stage_move_to.on_click(wrapped_func_factory(stage_move_to))\n",
    "    button_stage_velocity.on_click(wrapped_func_factory(stage_velocity))\n",
    "    \n",
    "    input_fields = [text_comment, text_stage_serial_num, float_stage_target_pos, float_stage_max_velocity]\n",
    "    for field in input_fields:\n",
    "        field.continuous_update = False\n",
    "        field.observe(wrapped_func_factory(load_input_field,verbose=False))\n",
    "\n",
    "    display(\n",
    "        widgets.VBox([\n",
    "            widgets.HBox([button_clear_output]),\n",
    "            widgets.HBox([button_apt_device_list,button_stage_move_to,button_stage_velocity]),\n",
    "            widgets.HBox([filechooser, button_load_as_wdata_npy, button_load_as_tdata_npy]),\n",
    "            widgets.HBox([text_comment, text_stage_serial_num, float_stage_target_pos, button_input_field]),\n",
    "            widgets.HBox([float_stage_max_velocity]),\n",
    "            output\n",
    "        ])\n",
    "    )\n"
   ]
  },
  {
   "cell_type": "code",
   "execution_count": null,
   "metadata": {},
   "outputs": [],
   "source": [
    "simple_ui()"
   ]
  }
 ],
 "metadata": {
  "kernelspec": {
   "display_name": "Python 3.10.2 64-bit",
   "language": "python",
   "name": "python3"
  },
  "language_info": {
   "codemirror_mode": {
    "name": "ipython",
    "version": 3
   },
   "file_extension": ".py",
   "mimetype": "text/x-python",
   "name": "python",
   "nbconvert_exporter": "python",
   "pygments_lexer": "ipython3",
   "version": "3.10.2"
  },
  "orig_nbformat": 4,
  "vscode": {
   "interpreter": {
    "hash": "7fea6797d8f82b94e936f25fbeb4417e6e79b305666ec97e0d70046810b8edd2"
   }
  }
 },
 "nbformat": 4,
 "nbformat_minor": 2
}
