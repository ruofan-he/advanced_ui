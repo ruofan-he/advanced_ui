{
 "cells": [
  {
   "cell_type": "code",
   "execution_count": 6,
   "metadata": {},
   "outputs": [],
   "source": [
    "from mso58trans import MSO58transData\n",
    "from matplotlib import pyplot as plt\n",
    "import numpy as np\n",
    "import datetime\n",
    "import ipywidgets as widgets\n",
    "from IPython.display import display\n",
    "from matplotlib import pyplot as plt\n",
    "from ipyfilechooser import FileChooser"
   ]
  },
  {
   "cell_type": "code",
   "execution_count": 43,
   "metadata": {},
   "outputs": [],
   "source": [
    "\n",
    "def read_osc():\n",
    "    \n",
    "    global t, w\n",
    "    global now\n",
    "    now = datetime.datetime.now()\n",
    "    try:\n",
    "        handler = MSO58transData('USB::0x0699::0x0530::C043144::INSTR')\n",
    "        t, w = handler.transfer2byte(1)\n",
    "        print(f't.shape={t.shape} w.shape={w.shape}')\n",
    "    except Exception as e:\n",
    "        print('failed')\n",
    "        print(e)\n",
    "    \n",
    "\n",
    "def save_osc():\n",
    "    global comment\n",
    "    filename_w = now.strftime('%Y%m%d_%H%M%S') + '_' + 'wdata_' + comment   + '.npy'\n",
    "    #filename_w_tes = 'wdata_tes_' + comment + '_' + now.strftime('%Y%m%d_%H%M%S') + '.npy'\n",
    "    filename_t = now.strftime('%Y%m%d_%H%M%S') + '_' +'tdata_' + comment +  '.npy'\n",
    "    np.save(filename_w,w)\n",
    "    #np.save(filename_w_tes,w_tes)\n",
    "    np.save(filename_t,t)\n",
    "\n",
    "def var_plot():\n",
    "    global t, w\n",
    "    plt.plot(np.var(w[:,:], axis = 0))\n",
    "    plt.show()\n",
    "\n",
    "\n",
    "def quadrature_plot():\n",
    "    global pulseNum\n",
    "    global hd_idx\n",
    "    global w, t\n",
    "    global comment\n",
    "    global quadrature\n",
    "    global quadratures\n",
    "    global now\n",
    "    global frames\n",
    "\n",
    "    period = [int(i * w.shape[1]/pulseNum) for i in range(pulseNum)]\n",
    "\n",
    "    volts = w.T\n",
    "\n",
    "    varList = []\n",
    "\n",
    "    frames = w.shape[0]\n",
    "\n",
    "    fig = plt.figure(figsize = (40,5))\n",
    "    quadratures = np.zeros((frames, pulseNum))\n",
    "\n",
    "    ax1 = None\n",
    "    ax2 = None\n",
    "    for i in range(pulseNum):\n",
    "        s = period[i]\n",
    "        duration = int(w.shape[1]/pulseNum)\n",
    "        ax1 = fig.add_subplot(2,max(pulseNum,10),i+1, sharey=ax1)\n",
    "        ax1.plot(volts[s:(s+duration),1])\n",
    "        ax1.set_title(f'{i}')\n",
    "        #quadrature = volts[s:(s+duration),:].sum(axis=0)\n",
    "        quadrature = volts[s+hd_idx,:]\n",
    "        ax2 = fig.add_subplot(2,max(pulseNum,10),i+1 + max(pulseNum,10), sharey=ax2)\n",
    "        ax2.scatter(range(w.shape[0]),quadrature,s = 0.01)\n",
    "        ax2.set_title(f'{i}')\n",
    "    plt.show()\n",
    "\n",
    "    for j in range(frames):\n",
    "        for i in range(pulseNum):\n",
    "            s = period[i]\n",
    "            #quadratures[j, i] = volts[s:s+duration, j].sum(axis=0)\n",
    "            quadratures[j, i] = volts[s+hd_idx, j]\n",
    "\n",
    "    varList = []\n",
    "\n",
    "    for i in range(pulseNum):\n",
    "        s = period[i]\n",
    "        duration = int(w.shape[1]/pulseNum)\n",
    "        #quadrature = volts[s:(s+duration),:].sum(axis=0)\n",
    "        quadrature = volts[s+hd_idx,:]\n",
    "        varList.append(quadrature.var())\n",
    "\n",
    "    fig = plt.figure()\n",
    "    plt.plot(varList)\n",
    "    plt.gca().get_yaxis().get_major_formatter().set_useOffset(False)\n",
    "    plt.show()\n",
    "\n",
    "    # ans = 0\n",
    "    # noiseidx = []\n",
    "    # for i in range(frames):\n",
    "    #     if(max(w_tes[i,:]) > 0.03):\n",
    "    #         noiseidx.append(i)\n",
    "    # quadratures_delete = np.delete(quadratures, noiseidx, axis=0)\n",
    "    # print(len(quadratures_delete))\n",
    "    # filename_hd_delete = 'hd_delete_' + comment + now.strftime('%Y%m%d_%H%M%S') + '.txt'\n",
    "    # np.savetxt(filename_hd_delete, quadratures_delete)\n",
    "\n",
    "    fig2 = plt.figure()\n",
    "    n, bins, patches = plt.hist(quadratures[:,1],bins=100)\n",
    "    plt.show()\n",
    "\n",
    "def save_quadratures():\n",
    "    global comment\n",
    "    global quadrature\n",
    "    filename_hd = now.strftime('%Y%m%d_%H%M%S') + 'hd_' + comment + '.txt'\n",
    "    np.savetxt(filename_hd, quadratures)\n",
    "\n",
    "def save_hist_img():\n",
    "    global comment\n",
    "    global quadratures\n",
    "    fig2 = plt.figure()\n",
    "    n, bins, patches = plt.hist(quadratures[:,1],bins=100)\n",
    "    plt.show()\n",
    "    fig2.savefig(now.strftime('%Y%m%d_%H%M%S') + 'hist_' + comment + '.png')\n",
    "\n",
    "\n",
    "def quadrature_sweep_plot():\n",
    "    global w, t\n",
    "    global sweep_target_pulse\n",
    "    frameLength = w.shape[1]\n",
    "    frames      = w.shape[0]\n",
    "    period = [int(i * frameLength/pulseNum) for i in range(pulseNum)]\n",
    "    duration = int(frameLength/pulseNum)\n",
    "    quadratures = np.zeros((frames, pulseNum))\n",
    "\n",
    "    volts = np.zeros((frames,pulseNum,duration))\n",
    "    for i in range(pulseNum):\n",
    "        s = period[i]\n",
    "        volts[:,i,:] = w[:,s:(s+duration)]\n",
    "\n",
    "\n",
    "    fig, ax = plt.subplots(2, 10, sharey=\"row\", figsize = (30,5))\n",
    "    for i, delta_hd_idx in enumerate(range(-5,5)):\n",
    "        \n",
    "        quadratures = volts.reshape((-1,volts.shape[-1]))[:,hd_idx + delta_hd_idx].reshape(volts.shape[:-1])\n",
    "        ax1 = ax[0,i]\n",
    "        ax1.scatter(range(quadratures.shape[0]),quadratures[:,sweep_target_pulse],s = 0.01)\n",
    "        ax1.set_title(f'{delta_hd_idx + hd_idx}')\n",
    "        ax2 = ax[1,i]\n",
    "        ax2.hist(quadratures[:,sweep_target_pulse], bins=100)\n",
    "    plt.show()\n",
    "    pass"
   ]
  },
  {
   "cell_type": "code",
   "execution_count": 44,
   "metadata": {},
   "outputs": [],
   "source": [
    "\n",
    "\n",
    "def simple_ui():\n",
    "    button_clear_output = widgets.Button(description='表示クリア')\n",
    "    button_read_osc = widgets.Button(description='オシロ読込')\n",
    "    button_save_osc = widgets.Button(description='オシロ保存')\n",
    "    button_var_plot = widgets.Button(description='varプロット')\n",
    "    button_quadrature_plot = widgets.Button(description='quadratureプロット')\n",
    "    button_quadrature_sweep_plot = widgets.Button(description='hd_idxスイーププロット')\n",
    "    button_save_quadratures = widgets.Button(description='quadrature保存')\n",
    "    button_save_hist_img = widgets.Button(description='hist保存')\n",
    "    filechooser = FileChooser('./')\n",
    "    button_load_as_wdata_npy = widgets.Button(description='wdata.npyとして読込')\n",
    "    button_load_as_tdata_npy = widgets.Button(description='tdata.npyとして読込')\n",
    "    button_input_field = widgets.Button(description='変数反映')\n",
    "\n",
    "    text_comment = widgets.Text(value='',placeholder='文字を入力',description='comment',disabled=False)\n",
    "    int_pulseNum = widgets.IntText(value=5,description='pulseNum')\n",
    "    int_hd_idx = widgets.IntText(value=5,description='hd_idx')\n",
    "    int_sweep_target_pulse = widgets.IntText(value=0, description='sweep_target_pulse')\n",
    "\n",
    "    output = widgets.Output(layour={'border': '1px solid black'})\n",
    "    def wrapped_func_factory(func):\n",
    "        def new_func(ui_element):\n",
    "            with output:\n",
    "                print(f\"exec func {func.__name__}\")\n",
    "                func()\n",
    "                print(f\"complete {func.__name__}\")\n",
    "        return new_func\n",
    "    button_clear_output.on_click(lambda button: output.clear_output(wait=False))\n",
    "    button_read_osc.on_click(wrapped_func_factory(read_osc))\n",
    "    button_save_osc.on_click(wrapped_func_factory(save_osc))\n",
    "    button_var_plot.on_click(wrapped_func_factory(var_plot))\n",
    "    button_quadrature_plot.on_click(wrapped_func_factory(quadrature_plot))\n",
    "    button_quadrature_sweep_plot.on_click(wrapped_func_factory(quadrature_sweep_plot))\n",
    "    button_save_quadratures.on_click(wrapped_func_factory(save_quadratures))\n",
    "    button_save_hist_img.on_click(wrapped_func_factory(save_hist_img))\n",
    "\n",
    "    def load_npy_factory(variable_name):\n",
    "        def load_npy():\n",
    "            choosed_file_path = filechooser.selected\n",
    "            global w, t\n",
    "            if variable_name == 'w':\n",
    "                w = np.load(choosed_file_path)\n",
    "                print(f'w.shape={w.shape}')\n",
    "            elif variable_name == 't':\n",
    "                t = np.load(choosed_file_path)\n",
    "                print(f't.shape={t.shape}')\n",
    "        return load_npy\n",
    "        \n",
    "    button_load_as_wdata_npy.on_click(wrapped_func_factory(load_npy_factory('w')))\n",
    "    button_load_as_tdata_npy.on_click(wrapped_func_factory(load_npy_factory('t')))\n",
    "    \n",
    "    def load_input_field():\n",
    "        global comment\n",
    "        global pulseNum\n",
    "        global hd_idx\n",
    "        global sweep_target_pulse\n",
    "        comment = text_comment.value\n",
    "        pulseNum = int_pulseNum.value\n",
    "        hd_idx = int_hd_idx.value\n",
    "        sweep_target_pulse = int_sweep_target_pulse.value\n",
    "    button_input_field.on_click(lambda button: load_input_field())\n",
    "    \n",
    "    display(\n",
    "        widgets.HBox([button_clear_output,button_read_osc,button_save_osc,button_var_plot,button_quadrature_plot,button_quadrature_sweep_plot,button_save_quadratures,button_save_hist_img]),\n",
    "        widgets.HBox([filechooser, button_load_as_wdata_npy, button_load_as_tdata_npy]),\n",
    "        widgets.HBox([text_comment,int_pulseNum, int_hd_idx,int_sweep_target_pulse ,button_input_field]),\n",
    "        output)\n"
   ]
  },
  {
   "cell_type": "code",
   "execution_count": 45,
   "metadata": {},
   "outputs": [
    {
     "data": {
      "application/vnd.jupyter.widget-view+json": {
       "model_id": "a89a234466224942800efc5ec891e0a2",
       "version_major": 2,
       "version_minor": 0
      },
      "text/plain": [
       "HBox(children=(Button(description='表示クリア', style=ButtonStyle()), Button(description='オシロ読込', style=ButtonStyle…"
      ]
     },
     "metadata": {},
     "output_type": "display_data"
    },
    {
     "data": {
      "application/vnd.jupyter.widget-view+json": {
       "model_id": "4df75872bbfe4299995acd0f4f9d97d4",
       "version_major": 2,
       "version_minor": 0
      },
      "text/plain": [
       "HBox(children=(FileChooser(path='C:\\Users\\ruofan\\Desktop\\advanced_ui', filename='', title='', show_hidden=Fals…"
      ]
     },
     "metadata": {},
     "output_type": "display_data"
    },
    {
     "data": {
      "application/vnd.jupyter.widget-view+json": {
       "model_id": "d731efa02b5c4b378b87129c338aeee2",
       "version_major": 2,
       "version_minor": 0
      },
      "text/plain": [
       "HBox(children=(Text(value='', description='comment', placeholder='文字を入力'), IntText(value=5, description='pulse…"
      ]
     },
     "metadata": {},
     "output_type": "display_data"
    },
    {
     "data": {
      "application/vnd.jupyter.widget-view+json": {
       "model_id": "279bf74939d8447f8993f8f83751ae28",
       "version_major": 2,
       "version_minor": 0
      },
      "text/plain": [
       "Output()"
      ]
     },
     "metadata": {},
     "output_type": "display_data"
    }
   ],
   "source": [
    "simple_ui()"
   ]
  }
 ],
 "metadata": {
  "kernelspec": {
   "display_name": "Python 3.9.0 64-bit",
   "language": "python",
   "name": "python3"
  },
  "language_info": {
   "codemirror_mode": {
    "name": "ipython",
    "version": 3
   },
   "file_extension": ".py",
   "mimetype": "text/x-python",
   "name": "python",
   "nbconvert_exporter": "python",
   "pygments_lexer": "ipython3",
   "version": "3.9.0"
  },
  "orig_nbformat": 4,
  "vscode": {
   "interpreter": {
    "hash": "4b4f216789f43f43ecc591a377bc2a7b5f02c99d00f656b444c8198c606cc60c"
   }
  }
 },
 "nbformat": 4,
 "nbformat_minor": 2
}
