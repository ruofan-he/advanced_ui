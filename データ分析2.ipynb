{
 "cells": [
  {
   "cell_type": "code",
   "execution_count": 1,
   "metadata": {},
   "outputs": [],
   "source": [
    "import numpy as np\n",
    "from matplotlib import pyplot as plt\n",
    "import ipywidgets as widgets\n",
    "from IPython.display import display\n",
    "from ipyfilechooser import FileChooser\n",
    "plt.ioff();"
   ]
  },
  {
   "cell_type": "code",
   "execution_count": 17,
   "metadata": {},
   "outputs": [],
   "source": [
    "def init_fig():\n",
    "    global fig\n",
    "    fig = plt.figure()\n",
    "    plt.close()\n",
    "    \n",
    "\n",
    "def add_scatter_xy():\n",
    "    global fig\n",
    "    global x,y\n",
    "    plt.get_current_fig_manager().canvas.figure = fig\n",
    "    plt.scatter(x,y)\n",
    "    plt.show()\n",
    "\n",
    "def add_scatter_y():\n",
    "    global fig\n",
    "    global y\n",
    "    plt.get_current_fig_manager().canvas.figure = fig\n",
    "    x = (np.ones_like(y)*range(y.shape[-1])).T\n",
    "    plt.scatter(x,y.T, s=0.1)\n",
    "    plt.show()\n",
    "\n",
    "def add_line_xy():\n",
    "    global fig\n",
    "    global x, y\n",
    "    plt.get_current_fig_manager().canvas.figure = fig\n",
    "    plt.plot(x, y.T)\n",
    "    plt.show()\n",
    "\n",
    "def add_line_y():\n",
    "    global fig\n",
    "    global y\n",
    "    plt.get_current_fig_manager().canvas.figure = fig\n",
    "    plt.plot(y.T)\n",
    "    plt.show()\n",
    "\n",
    "def show_fig():\n",
    "    global fig\n",
    "    plt.get_current_fig_manager().canvas.figure = fig\n",
    "    plt.show()\n",
    "\n",
    "def set_label_title():\n",
    "    global xlabel, ylabel, title\n",
    "    plt.get_current_fig_manager().canvas.figure = fig\n",
    "    plt.xlabel(xlabel)\n",
    "    plt.ylabel(ylabel)\n",
    "    plt.title(title)\n",
    "    plt.show()"
   ]
  },
  {
   "cell_type": "code",
   "execution_count": 18,
   "metadata": {},
   "outputs": [],
   "source": [
    "def simple_ui():\n",
    "    button_clear_output = widgets.Button(description='表示クリア')\n",
    "    button_init_fig = widgets.Button(description='初期化')\n",
    "    button_set_label_title = widgets.Button(description='ラベル・タイトル')\n",
    "    button_add_line_xy = widgets.Button(description='プロット(x,y)')\n",
    "    button_add_line_y = widgets.Button(description='プロット(y)')\n",
    "    button_add_scatter_xy = widgets.Button(description='散布図(x,y)')\n",
    "    button_add_scatter_y = widgets.Button(description='散布図(y)')\n",
    "    button_show_fig = widgets.Button(description='描写')\n",
    "    filechooser = FileChooser('./')\n",
    "    button_load_as_x_npy = widgets.Button(description='x.npy読込')\n",
    "    button_load_as_y_npy = widgets.Button(description='y.npy読込')\n",
    "    button_input_field = widgets.Button(description='変数反映')\n",
    "\n",
    "    text_xlabel = widgets.Text(value='',description='xlabel')\n",
    "    text_ylabel = widgets.Text(value='',description='ylabel')\n",
    "    text_title = widgets.Text(value='',description='title')\n",
    "    \n",
    "\n",
    "    button_x_transpose = widgets.Button(description='x転置')\n",
    "    button_y_transpose = widgets.Button(description='y転置')\n",
    "\n",
    "\n",
    "    output = widgets.Output(layour={'border': '1px solid black'})\n",
    "    def wrapped_func_factory(func):\n",
    "        def new_func(ui_element):\n",
    "            with output:\n",
    "                print(f\"exec func {func.__name__}\")\n",
    "                func()\n",
    "                print(f\"complete {func.__name__}\")\n",
    "        return new_func\n",
    "    button_clear_output.on_click(lambda button: output.clear_output(wait=False))\n",
    "    button_init_fig.on_click(wrapped_func_factory(init_fig))\n",
    "    button_set_label_title.on_click(wrapped_func_factory(set_label_title))\n",
    "    button_add_line_xy.on_click(wrapped_func_factory(add_line_xy))\n",
    "    button_add_line_y.on_click(wrapped_func_factory(add_line_y))\n",
    "    button_add_scatter_xy.on_click(wrapped_func_factory(add_scatter_xy))\n",
    "    button_add_scatter_y.on_click(wrapped_func_factory(add_scatter_y))\n",
    "    button_show_fig.on_click(wrapped_func_factory(show_fig))\n",
    "\n",
    "    def load_npy_factory(variable_name):\n",
    "        def load_npy():\n",
    "            choosed_file_path = filechooser.selected\n",
    "            global x, y\n",
    "            if variable_name == 'x':\n",
    "                x = np.load(choosed_file_path)\n",
    "                print(f'x.shape={x.shape}')\n",
    "            elif variable_name == 'y':\n",
    "                y = np.load(choosed_file_path)\n",
    "                print(f'y.shape={y.shape}')\n",
    "        return load_npy\n",
    "    def transpose_factory(variable_name):\n",
    "        def transpose():\n",
    "            global x,y\n",
    "            if variable_name == 'x':\n",
    "                x = x.T\n",
    "                print(f'x.shape={x.shape}')\n",
    "            elif variable_name == 'y':\n",
    "                y = y.T\n",
    "                print(f'y.shape={y.shape}')\n",
    "        return transpose\n",
    "    button_load_as_x_npy.on_click(wrapped_func_factory(load_npy_factory('x')))\n",
    "    button_load_as_y_npy.on_click(wrapped_func_factory(load_npy_factory('y')))\n",
    "    button_x_transpose.on_click(wrapped_func_factory(transpose_factory('x')))\n",
    "    button_y_transpose.on_click(wrapped_func_factory(transpose_factory('y')))\n",
    "\n",
    "\n",
    "    def load_input_field():\n",
    "        global xlabel\n",
    "        global ylabel\n",
    "        global title\n",
    "        xlabel = text_xlabel.value\n",
    "        ylabel = text_ylabel.value\n",
    "        title = text_title.value\n",
    "    button_input_field.on_click(lambda button: load_input_field())\n",
    "\n",
    "    display(\n",
    "        widgets.HBox([button_clear_output, button_init_fig, button_set_label_title , button_show_fig]),\n",
    "        widgets.HBox([button_add_line_y,button_add_line_xy, button_add_scatter_y, button_add_scatter_xy]),\n",
    "        widgets.HBox([filechooser,button_load_as_x_npy, button_load_as_y_npy]),\n",
    "        widgets.HBox([text_xlabel, text_ylabel, text_title ,button_input_field]),\n",
    "        widgets.HBox([button_x_transpose,button_y_transpose]),\n",
    "        output,)"
   ]
  },
  {
   "cell_type": "code",
   "execution_count": 19,
   "metadata": {},
   "outputs": [
    {
     "data": {
      "application/vnd.jupyter.widget-view+json": {
       "model_id": "d1cdf4aa95e34b65a4e9e99ca2f173e8",
       "version_major": 2,
       "version_minor": 0
      },
      "text/plain": [
       "HBox(children=(Button(description='表示クリア', style=ButtonStyle()), Button(description='初期化', style=ButtonStyle()…"
      ]
     },
     "metadata": {},
     "output_type": "display_data"
    },
    {
     "data": {
      "application/vnd.jupyter.widget-view+json": {
       "model_id": "f379da92edb34b7aa6cb25a8a789d65b",
       "version_major": 2,
       "version_minor": 0
      },
      "text/plain": [
       "HBox(children=(Button(description='プロット(y)', style=ButtonStyle()), Button(description='プロット(x,y)', style=Butto…"
      ]
     },
     "metadata": {},
     "output_type": "display_data"
    },
    {
     "data": {
      "application/vnd.jupyter.widget-view+json": {
       "model_id": "8d175684b6324f9ca03fbbcf0173bae4",
       "version_major": 2,
       "version_minor": 0
      },
      "text/plain": [
       "HBox(children=(FileChooser(path='C:\\Users\\Ruofan\\storage\\20220909', filename='', title='', show_hidden=False, …"
      ]
     },
     "metadata": {},
     "output_type": "display_data"
    },
    {
     "data": {
      "application/vnd.jupyter.widget-view+json": {
       "model_id": "4c3fc9c26f0d4f778786912be316d660",
       "version_major": 2,
       "version_minor": 0
      },
      "text/plain": [
       "HBox(children=(Text(value='', description='xlabel'), Text(value='', description='ylabel'), Text(value='', desc…"
      ]
     },
     "metadata": {},
     "output_type": "display_data"
    },
    {
     "data": {
      "application/vnd.jupyter.widget-view+json": {
       "model_id": "3536f20c756649ad9951e7230a10e141",
       "version_major": 2,
       "version_minor": 0
      },
      "text/plain": [
       "HBox(children=(Button(description='x転置', style=ButtonStyle()), Button(description='y転置', style=ButtonStyle()))…"
      ]
     },
     "metadata": {},
     "output_type": "display_data"
    },
    {
     "data": {
      "application/vnd.jupyter.widget-view+json": {
       "model_id": "e70727ebb29c4b6785ee633de4ccc445",
       "version_major": 2,
       "version_minor": 0
      },
      "text/plain": [
       "Output()"
      ]
     },
     "metadata": {},
     "output_type": "display_data"
    }
   ],
   "source": [
    "simple_ui()"
   ]
  },
  {
   "cell_type": "code",
   "execution_count": null,
   "metadata": {},
   "outputs": [],
   "source": []
  }
 ],
 "metadata": {
  "kernelspec": {
   "display_name": "Python 3.9.1 64-bit",
   "language": "python",
   "name": "python3"
  },
  "language_info": {
   "codemirror_mode": {
    "name": "ipython",
    "version": 3
   },
   "file_extension": ".py",
   "mimetype": "text/x-python",
   "name": "python",
   "nbconvert_exporter": "python",
   "pygments_lexer": "ipython3",
   "version": "3.9.1"
  },
  "orig_nbformat": 4,
  "vscode": {
   "interpreter": {
    "hash": "e8d6dd28c7a6632f681c42091c0e1cb8890c056f7a0db278a2b15c52b3946cb8"
   }
  }
 },
 "nbformat": 4,
 "nbformat_minor": 2
}
