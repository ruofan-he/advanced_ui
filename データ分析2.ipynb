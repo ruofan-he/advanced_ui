{
 "cells": [
  {
   "cell_type": "code",
   "execution_count": 72,
   "metadata": {},
   "outputs": [],
   "source": [
    "import numpy as np\n",
    "from matplotlib import pyplot as plt\n",
    "import ipywidgets as widgets\n",
    "from IPython.display import display\n",
    "from ipyfilechooser import FileChooser\n",
    "plt.ioff();"
   ]
  },
  {
   "cell_type": "code",
   "execution_count": 79,
   "metadata": {},
   "outputs": [],
   "source": [
    "def init_fig():\n",
    "    global fig\n",
    "    fig = plt.figure()\n",
    "    plt.close()\n",
    "    \n",
    "\n",
    "def add_scatter_xy():\n",
    "    global fig\n",
    "    global x,y\n",
    "    plt.get_current_fig_manager().canvas.figure = fig\n",
    "    plt.scatter(x,y)\n",
    "    plt.show()\n",
    "\n",
    "def add_scatter_y():\n",
    "    global fig\n",
    "    global y\n",
    "    plt.get_current_fig_manager().canvas.figure = fig\n",
    "    x = (np.ones_like(y)*range(y.shape[-1])).T\n",
    "    plt.scatter(x,y.T, s=0.1)\n",
    "    plt.show()\n",
    "\n",
    "def add_line_xy():\n",
    "    global fig\n",
    "    global x, y\n",
    "    plt.get_current_fig_manager().canvas.figure = fig\n",
    "    plt.plot(x, y.T)\n",
    "    plt.show()\n",
    "\n",
    "def add_line_y():\n",
    "    global fig\n",
    "    global y\n",
    "    plt.get_current_fig_manager().canvas.figure = fig\n",
    "    plt.plot(y.T)\n",
    "    plt.show()\n",
    "\n",
    "def show_fig():\n",
    "    global fig\n",
    "    plt.get_current_fig_manager().canvas.figure = fig\n",
    "    plt.show()\n",
    "\n",
    "def set_label_title():\n",
    "    global xlabel, ylabel, title\n",
    "    plt.get_current_fig_manager().canvas.figure = fig\n",
    "    plt.xlabel(xlabel)\n",
    "    plt.ylabel(ylabel)\n",
    "    plt.title(title)\n",
    "    plt.show()\n",
    "\n",
    "def set_axis_lim():\n",
    "    global fig\n",
    "    global xlim_high, xlim_low\n",
    "    global ylim_high, ylim_low\n",
    "    plt.get_current_fig_manager().canvas.figure = fig\n",
    "    plt.xlim([xlim_low, xlim_high])\n",
    "    plt.ylim([ylim_low, ylim_high])\n",
    "    plt.show()\n",
    "\n",
    "def set_autoscale():\n",
    "    global fig\n",
    "    plt.get_current_fig_manager().canvas.figure = fig\n",
    "    plt.gca().relim()\n",
    "    plt.gca().autoscale()\n",
    "    plt.show()\n",
    "\n",
    "def calc_var():\n",
    "    global y\n",
    "    y=np.var(w, axis=0)\n",
    "\n",
    "def calc_quadratures():\n",
    "    global quadratures\n",
    "    global pulseNum\n",
    "    global hd_idx\n",
    "    global pulse_id\n",
    "    global w, t\n",
    "    global y\n",
    "\n",
    "    quadrature_method = lambda volts: volts.reshape(-1,volts.shape[-1])[:,hd_idx].reshape(volts.shape[:-1])\n",
    "\n",
    "    frameLength = w.shape[1]\n",
    "    frames      = w.shape[0]\n",
    "    period = [int(i * frameLength/pulseNum) for i in range(pulseNum)]\n",
    "    duration = int(frameLength/pulseNum)\n",
    "    quadratures = np.zeros((frames, pulseNum))\n",
    "\n",
    "    volts = np.zeros((frames,pulseNum,duration))\n",
    "\n",
    "    for i in range(pulseNum):\n",
    "        s = period[i]\n",
    "        volts[:,i,:] = w[:,s:(s+duration)]\n",
    "\n",
    "    quadratures = quadrature_method(volts)\n",
    "    y = quadratures[:,pulse_id]\n",
    "\n",
    "def calc_moving_var():\n",
    "    global quadratures\n",
    "    global pulse_id\n",
    "    global y\n",
    "    quadrature = quadratures[:, pulse_id]\n",
    "    K = 200\n",
    "    conv = np.ones(K)/K\n",
    "    moving_var = np.convolve(quadrature**2, conv, mode=\"same\") - np.convolve(quadrature, conv, mode=\"same\")**2 \n",
    "    y = 10*np.log10(moving_var)"
   ]
  },
  {
   "cell_type": "code",
   "execution_count": 80,
   "metadata": {},
   "outputs": [],
   "source": [
    "def simple_ui():\n",
    "    button_clear_output = widgets.Button(description='表示クリア')\n",
    "    button_init_fig = widgets.Button(description='初期化')\n",
    "    button_set_label_title = widgets.Button(description='ラベル・タイトル')\n",
    "    button_set_axis_lim = widgets.Button(description='軸範囲設定')\n",
    "    button_set_autoscale = widgets.Button(description='自動範囲設定')\n",
    "    button_add_line_xy = widgets.Button(description='プロット(x,y)')\n",
    "    button_add_line_y = widgets.Button(description='プロット(y)')\n",
    "    button_add_scatter_xy = widgets.Button(description='散布図(x,y)')\n",
    "    button_add_scatter_y = widgets.Button(description='散布図(y)')\n",
    "    button_show_fig = widgets.Button(description='描写')\n",
    "    filechooser = FileChooser('./')\n",
    "    button_load_as_x_npy = widgets.Button(description='x.npy読込')\n",
    "    button_load_as_y_npy = widgets.Button(description='y.npy読込')\n",
    "    button_load_as_t_npy = widgets.Button(description='t.npy読込')\n",
    "    button_load_as_w_npy = widgets.Button(description='w.npy読込')\n",
    "    button_load_as_x_txt = widgets.Button(description='x.txt読込')\n",
    "    button_load_as_y_txt = widgets.Button(description='y.txt読込')\n",
    "    button_input_field = widgets.Button(description='変数反映')\n",
    "\n",
    "    text_xlabel = widgets.Text(value='',description='xlabel')\n",
    "    text_ylabel = widgets.Text(value='',description='ylabel')\n",
    "    text_title = widgets.Text(value='',description='title')\n",
    "    text_xlim_high = widgets.Text(value='None', description='xlim_high')\n",
    "    text_xlim_low = widgets.Text(value='None', description='xlim_low')\n",
    "    text_ylim_high = widgets.Text(value='None', description='ylim_high')\n",
    "    text_ylim_low = widgets.Text(value='None', description='ylim_low')\n",
    "    int_pulseNum = widgets.IntText(value=5,description='pulseNum')\n",
    "    int_hd_idx = widgets.IntText(value=330, description='hd_idx')\n",
    "    int_pulse_id = widgets.IntText(value=0,description='pulse_id')\n",
    "    \n",
    "    \n",
    "\n",
    "    button_x_transpose = widgets.Button(description='x転置')\n",
    "    button_y_transpose = widgets.Button(description='y転置')\n",
    "    button_calc_var = widgets.Button(description='var計算')\n",
    "    button_calc_quadratures = widgets.Button(description='quad計算')\n",
    "    button_calc_moving_var = widgets.Button(description='移動分散計算')\n",
    "\n",
    "\n",
    "    output = widgets.Output(layour={'border': '1px solid black'})\n",
    "    def wrapped_func_factory(func):\n",
    "        def new_func(ui_element):\n",
    "            with output:\n",
    "                print(f\"exec func {func.__name__}\")\n",
    "                func()\n",
    "                print(f\"complete {func.__name__}\")\n",
    "        return new_func\n",
    "    button_clear_output.on_click(lambda button: output.clear_output(wait=False))\n",
    "    button_init_fig.on_click(wrapped_func_factory(init_fig))\n",
    "    button_set_label_title.on_click(wrapped_func_factory(set_label_title))\n",
    "    button_add_line_xy.on_click(wrapped_func_factory(add_line_xy))\n",
    "    button_add_line_y.on_click(wrapped_func_factory(add_line_y))\n",
    "    button_add_scatter_xy.on_click(wrapped_func_factory(add_scatter_xy))\n",
    "    button_add_scatter_y.on_click(wrapped_func_factory(add_scatter_y))\n",
    "    button_show_fig.on_click(wrapped_func_factory(show_fig))\n",
    "    button_set_axis_lim.on_click(wrapped_func_factory(set_axis_lim))\n",
    "    button_set_autoscale.on_click(wrapped_func_factory(set_autoscale))\n",
    "    button_calc_var.on_click(wrapped_func_factory(calc_var))\n",
    "    button_calc_quadratures.on_click(wrapped_func_factory(calc_quadratures))\n",
    "    button_calc_moving_var.on_click(wrapped_func_factory(calc_moving_var))\n",
    "\n",
    "    def load_npy_factory(variable_name):\n",
    "        def load_npy():\n",
    "            choosed_file_path = filechooser.selected\n",
    "            global x, y\n",
    "            global w, t\n",
    "            if variable_name == 'x':\n",
    "                x = np.load(choosed_file_path)\n",
    "                print(f'x.shape={x.shape}')\n",
    "            elif variable_name == 'y':\n",
    "                y = np.load(choosed_file_path)\n",
    "                print(f'y.shape={y.shape}')\n",
    "            elif variable_name == 'w':\n",
    "                w = np.load(choosed_file_path)\n",
    "                print(f'w.shape={w.shape}')\n",
    "            elif variable_name == 't':\n",
    "                t = np.load(choosed_file_path)\n",
    "                print(f't.shape={t.shape}')\n",
    "        return load_npy\n",
    "    def load_txt_factory(variable_name):\n",
    "        def load_txt():\n",
    "            choosed_file_path = filechooser.selected\n",
    "            global x, y\n",
    "            if variable_name == 'x':\n",
    "                x = np.loadtxt(choosed_file_path)\n",
    "                print(f'x.shape={x.shape}')\n",
    "            elif variable_name == 'y':\n",
    "                y = np.loadtxt(choosed_file_path)\n",
    "                print(f'y.shape={y.shape}')\n",
    "        return load_txt\n",
    "    def transpose_factory(variable_name):\n",
    "        def transpose():\n",
    "            global x,y\n",
    "            if variable_name == 'x':\n",
    "                x = x.T\n",
    "                print(f'x.shape={x.shape}')\n",
    "            elif variable_name == 'y':\n",
    "                y = y.T\n",
    "                print(f'y.shape={y.shape}')\n",
    "        return transpose\n",
    "    button_load_as_x_npy.on_click(wrapped_func_factory(load_npy_factory('x')))\n",
    "    button_load_as_y_npy.on_click(wrapped_func_factory(load_npy_factory('y')))\n",
    "    button_load_as_w_npy.on_click(wrapped_func_factory(load_npy_factory('w')))\n",
    "    button_load_as_t_npy.on_click(wrapped_func_factory(load_npy_factory('t')))\n",
    "    button_load_as_x_txt.on_click(wrapped_func_factory(load_txt_factory('x')))\n",
    "    button_load_as_y_txt.on_click(wrapped_func_factory(load_txt_factory('y')))\n",
    "    button_x_transpose.on_click(wrapped_func_factory(transpose_factory('x')))\n",
    "    button_y_transpose.on_click(wrapped_func_factory(transpose_factory('y')))\n",
    "\n",
    "\n",
    "    def load_input_field():\n",
    "        global xlabel\n",
    "        global ylabel\n",
    "        global title\n",
    "        global pulseNum\n",
    "        global hd_idx\n",
    "        global pulse_id\n",
    "        global xlim_high, xlim_low\n",
    "        global ylim_high, ylim_low\n",
    "        xlabel = text_xlabel.value\n",
    "        ylabel = text_ylabel.value\n",
    "        title = text_title.value\n",
    "        pulseNum = int_pulseNum.value\n",
    "        hd_idx = int_hd_idx.value\n",
    "        pulse_id = int_pulse_id.value\n",
    "        lims = [text_xlim_high.value, text_xlim_low.value, text_ylim_high.value, text_ylim_low.value]\n",
    "        xlim_high, xlim_low, ylim_high, ylim_low = [float(i) if i !='None' else None for i in lims]\n",
    "\n",
    "    button_input_field.on_click(lambda button: load_input_field())\n",
    "\n",
    "    display(\n",
    "        widgets.HBox([button_clear_output, button_init_fig, button_set_label_title, button_set_axis_lim,button_set_autoscale , button_show_fig]),\n",
    "        widgets.HBox([button_add_line_y,button_add_line_xy, button_add_scatter_y, button_add_scatter_xy]),\n",
    "        widgets.HBox([filechooser,button_load_as_x_npy, button_load_as_y_npy]),\n",
    "        widgets.HBox([button_load_as_w_npy,button_load_as_t_npy,button_load_as_x_txt,button_load_as_y_txt]),\n",
    "        widgets.HBox([text_xlabel, text_ylabel, text_title ,]),\n",
    "        widgets.HBox([text_xlim_low,text_xlim_high, text_ylim_low, text_ylim_high]),\n",
    "        widgets.HBox([int_pulseNum, int_hd_idx, int_pulse_id, button_input_field]),\n",
    "        widgets.HBox([button_x_transpose,button_y_transpose,button_calc_var, button_calc_quadratures, button_calc_moving_var]),\n",
    "        output,)"
   ]
  },
  {
   "cell_type": "code",
   "execution_count": 81,
   "metadata": {},
   "outputs": [
    {
     "data": {
      "application/vnd.jupyter.widget-view+json": {
       "model_id": "e1ebc664ca674e4680de11018b0425c0",
       "version_major": 2,
       "version_minor": 0
      },
      "text/plain": [
       "HBox(children=(Button(description='表示クリア', style=ButtonStyle()), Button(description='初期化', style=ButtonStyle()…"
      ]
     },
     "metadata": {},
     "output_type": "display_data"
    },
    {
     "data": {
      "application/vnd.jupyter.widget-view+json": {
       "model_id": "3eec90cfa4d14af5b209bdf12b9aa330",
       "version_major": 2,
       "version_minor": 0
      },
      "text/plain": [
       "HBox(children=(Button(description='プロット(y)', style=ButtonStyle()), Button(description='プロット(x,y)', style=Butto…"
      ]
     },
     "metadata": {},
     "output_type": "display_data"
    },
    {
     "data": {
      "application/vnd.jupyter.widget-view+json": {
       "model_id": "8ee5fa038b6648b58428bc4ce89bca5d",
       "version_major": 2,
       "version_minor": 0
      },
      "text/plain": [
       "HBox(children=(FileChooser(path='C:\\Users\\Ruofan\\storage\\20220909', filename='', title='', show_hidden=False, …"
      ]
     },
     "metadata": {},
     "output_type": "display_data"
    },
    {
     "data": {
      "application/vnd.jupyter.widget-view+json": {
       "model_id": "d37a008462ad44f7be4daf72be1f8e63",
       "version_major": 2,
       "version_minor": 0
      },
      "text/plain": [
       "HBox(children=(Button(description='w.npy読込', style=ButtonStyle()), Button(description='t.npy読込', style=ButtonS…"
      ]
     },
     "metadata": {},
     "output_type": "display_data"
    },
    {
     "data": {
      "application/vnd.jupyter.widget-view+json": {
       "model_id": "954d55701ffe4f3ca4ad9fd438edae1e",
       "version_major": 2,
       "version_minor": 0
      },
      "text/plain": [
       "HBox(children=(Text(value='', description='xlabel'), Text(value='', description='ylabel'), Text(value='', desc…"
      ]
     },
     "metadata": {},
     "output_type": "display_data"
    },
    {
     "data": {
      "application/vnd.jupyter.widget-view+json": {
       "model_id": "e4d4d6b0ce754478bfcc1c4f5c32fbe9",
       "version_major": 2,
       "version_minor": 0
      },
      "text/plain": [
       "HBox(children=(Text(value='None', description='xlim_low'), Text(value='None', description='xlim_high'), Text(v…"
      ]
     },
     "metadata": {},
     "output_type": "display_data"
    },
    {
     "data": {
      "application/vnd.jupyter.widget-view+json": {
       "model_id": "73c62fa8428e4aff9f957a0005625ee5",
       "version_major": 2,
       "version_minor": 0
      },
      "text/plain": [
       "HBox(children=(IntText(value=5, description='pulseNum'), IntText(value=330, description='hd_idx'), IntText(val…"
      ]
     },
     "metadata": {},
     "output_type": "display_data"
    },
    {
     "data": {
      "application/vnd.jupyter.widget-view+json": {
       "model_id": "c18f786cce7941a88f51b3cff9f0dc74",
       "version_major": 2,
       "version_minor": 0
      },
      "text/plain": [
       "HBox(children=(Button(description='x転置', style=ButtonStyle()), Button(description='y転置', style=ButtonStyle()),…"
      ]
     },
     "metadata": {},
     "output_type": "display_data"
    },
    {
     "data": {
      "application/vnd.jupyter.widget-view+json": {
       "model_id": "1c261a848496452dbea619e8b560d99a",
       "version_major": 2,
       "version_minor": 0
      },
      "text/plain": [
       "Output()"
      ]
     },
     "metadata": {},
     "output_type": "display_data"
    }
   ],
   "source": [
    "simple_ui()"
   ]
  }
 ],
 "metadata": {
  "kernelspec": {
   "display_name": "Python 3.9.1 64-bit",
   "language": "python",
   "name": "python3"
  },
  "language_info": {
   "codemirror_mode": {
    "name": "ipython",
    "version": 3
   },
   "file_extension": ".py",
   "mimetype": "text/x-python",
   "name": "python",
   "nbconvert_exporter": "python",
   "pygments_lexer": "ipython3",
   "version": "3.9.1"
  },
  "orig_nbformat": 4,
  "vscode": {
   "interpreter": {
    "hash": "e8d6dd28c7a6632f681c42091c0e1cb8890c056f7a0db278a2b15c52b3946cb8"
   }
  }
 },
 "nbformat": 4,
 "nbformat_minor": 2
}
