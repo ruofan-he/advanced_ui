{
 "cells": [
  {
   "cell_type": "code",
   "execution_count": 16,
   "metadata": {},
   "outputs": [],
   "source": [
    "import numpy as np\n",
    "from matplotlib import pyplot as plt\n",
    "import ipywidgets as widgets\n",
    "from IPython.display import display\n",
    "from ipyfilechooser import FileChooser\n",
    "import pandas as pd\n",
    "plt.ioff();"
   ]
  },
  {
   "cell_type": "code",
   "execution_count": 17,
   "metadata": {},
   "outputs": [],
   "source": [
    "def init_fig():\n",
    "    global fig\n",
    "    fig = plt.figure()\n",
    "    plt.close()\n",
    "    \n",
    "\n",
    "def add_scatter_xy():\n",
    "    global fig\n",
    "    global x,y\n",
    "    plt.get_current_fig_manager().canvas.figure = fig\n",
    "    plt.scatter(x,y)\n",
    "    plt.show()\n",
    "\n",
    "def add_scatter_y():\n",
    "    global fig\n",
    "    global y\n",
    "    plt.get_current_fig_manager().canvas.figure = fig\n",
    "    x = (np.ones_like(y.T)*range(y.shape[0])).T\n",
    "    plt.scatter(x,y, s=0.1)\n",
    "    plt.show()\n",
    "\n",
    "def add_line_xy():\n",
    "    global fig\n",
    "    global x, y\n",
    "    plt.get_current_fig_manager().canvas.figure = fig\n",
    "    plt.plot(x, y)\n",
    "    plt.show()\n",
    "\n",
    "def add_line_y():\n",
    "    global fig\n",
    "    global y\n",
    "    plt.get_current_fig_manager().canvas.figure = fig\n",
    "    plt.plot(y)\n",
    "    plt.show()\n",
    "\n",
    "def show_fig():\n",
    "    global fig\n",
    "    plt.get_current_fig_manager().canvas.figure = fig\n",
    "    plt.show()\n",
    "\n",
    "def set_label_title():\n",
    "    global xlabel, ylabel, title\n",
    "    plt.get_current_fig_manager().canvas.figure = fig\n",
    "    plt.xlabel(xlabel)\n",
    "    plt.ylabel(ylabel)\n",
    "    plt.title(title)\n",
    "    plt.show()\n",
    "\n",
    "def set_axis_lim():\n",
    "    global fig\n",
    "    global xlim_high, xlim_low\n",
    "    global ylim_high, ylim_low\n",
    "    plt.get_current_fig_manager().canvas.figure = fig\n",
    "    plt.xlim([xlim_low, xlim_high])\n",
    "    plt.ylim([ylim_low, ylim_high])\n",
    "    plt.show()\n",
    "\n",
    "def set_autoscale():\n",
    "    global fig\n",
    "    plt.get_current_fig_manager().canvas.figure = fig\n",
    "    plt.gca().relim()\n",
    "    plt.gca().autoscale()\n",
    "    plt.show()\n",
    "\n"
   ]
  },
  {
   "cell_type": "code",
   "execution_count": 18,
   "metadata": {},
   "outputs": [],
   "source": [
    "def simple_ui():\n",
    "    button_clear_output = widgets.Button(description='表示クリア')\n",
    "    button_init_fig = widgets.Button(description='初期化')\n",
    "    button_set_label_title = widgets.Button(description='ラベル・タイトル')\n",
    "    button_set_axis_lim = widgets.Button(description='軸範囲設定')\n",
    "    button_set_autoscale = widgets.Button(description='自動範囲設定')\n",
    "    button_add_line_xy = widgets.Button(description='プロット(x,y)')\n",
    "    button_add_line_y = widgets.Button(description='プロット(y)')\n",
    "    button_add_scatter_xy = widgets.Button(description='散布図(x,y)')\n",
    "    button_add_scatter_y = widgets.Button(description='散布図(y)')\n",
    "    button_show_fig = widgets.Button(description='描写')\n",
    "    filechooser = FileChooser('./')\n",
    "    button_load_as_x_npy = widgets.Button(description='x.npy読込')\n",
    "    button_load_as_y_npy = widgets.Button(description='y.npy読込')\n",
    "    button_load_as_x_txt = widgets.Button(description='x.txt読込')\n",
    "    button_load_as_y_txt = widgets.Button(description='y.txt読込')\n",
    "    button_load_csv_dialog   = widgets.Button(description='csv読込ダイアログ')\n",
    "    button_input_field = widgets.Button(description='変数反映')\n",
    "\n",
    "    text_xlabel = widgets.Text(value='',description='xlabel')\n",
    "    text_ylabel = widgets.Text(value='',description='ylabel')\n",
    "    text_title = widgets.Text(value='',description='title')\n",
    "    text_xlim_high = widgets.Text(value='None', description='xlim_high')\n",
    "    text_xlim_low = widgets.Text(value='None', description='xlim_low')\n",
    "    text_ylim_high = widgets.Text(value='None', description='ylim_high')\n",
    "    text_ylim_low = widgets.Text(value='None', description='ylim_low')\n",
    "\n",
    "    button_x_transpose = widgets.Button(description='x転置')\n",
    "    button_y_transpose = widgets.Button(description='y転置')\n",
    "\n",
    "\n",
    "    output = widgets.Output(layour={'border': '1px solid black'})\n",
    "    def wrapped_func_factory(func):\n",
    "        def new_func(ui_element):\n",
    "            with output:\n",
    "                print(f\"exec func {func.__name__}\")\n",
    "                func()\n",
    "                print(f\"complete {func.__name__}\")\n",
    "        return new_func\n",
    "    button_clear_output.on_click(lambda button: output.clear_output(wait=False))\n",
    "    button_init_fig.on_click(wrapped_func_factory(init_fig))\n",
    "    button_set_label_title.on_click(wrapped_func_factory(set_label_title))\n",
    "    button_add_line_xy.on_click(wrapped_func_factory(add_line_xy))\n",
    "    button_add_line_y.on_click(wrapped_func_factory(add_line_y))\n",
    "    button_add_scatter_xy.on_click(wrapped_func_factory(add_scatter_xy))\n",
    "    button_add_scatter_y.on_click(wrapped_func_factory(add_scatter_y))\n",
    "    button_show_fig.on_click(wrapped_func_factory(show_fig))\n",
    "    button_set_axis_lim.on_click(wrapped_func_factory(set_axis_lim))\n",
    "    button_set_autoscale.on_click(wrapped_func_factory(set_autoscale))\n",
    "\n",
    "    def load_npy_factory(variable_name):\n",
    "        def load_npy():\n",
    "            choosed_file_path = filechooser.selected\n",
    "            global x, y\n",
    "            if variable_name == 'x':\n",
    "                x = np.load(choosed_file_path)\n",
    "                print(f'x.shape={x.shape}')\n",
    "            elif variable_name == 'y':\n",
    "                y = np.load(choosed_file_path)\n",
    "                print(f'y.shape={y.shape}')\n",
    "        return load_npy\n",
    "    def load_txt_factory(variable_name):\n",
    "        def load_txt():\n",
    "            choosed_file_path = filechooser.selected\n",
    "            global x, y\n",
    "            if variable_name == 'x':\n",
    "                x = np.loadtxt(choosed_file_path)\n",
    "                print(f'x.shape={x.shape}')\n",
    "            elif variable_name == 'y':\n",
    "                y = np.loadtxt(choosed_file_path)\n",
    "                print(f'y.shape={y.shape}')\n",
    "        return load_txt\n",
    "    def transpose_factory(variable_name):\n",
    "        def transpose():\n",
    "            global x,y\n",
    "            if variable_name == 'x':\n",
    "                x = x.T\n",
    "                print(f'x.shape={x.shape}')\n",
    "            elif variable_name == 'y':\n",
    "                y = y.T\n",
    "                print(f'y.shape={y.shape}')\n",
    "        return transpose\n",
    "    def load_csv_dialog():\n",
    "        choosed_file_path = filechooser.selected\n",
    "        global x,y\n",
    "        df = pd.read_csv(choosed_file_path)\n",
    "        selection = widgets.SelectMultiple(options=df.columns,description='columns')\n",
    "        button_load_as_x = widgets.Button(description='x読込')\n",
    "        button_load_as_y = widgets.Button(description='y読込')\n",
    "        button_load_as_x_as_datetime = widgets.Button(description='x.datetime読込')\n",
    "        def load_as_x():\n",
    "            global x\n",
    "            x = df[list(selection.value)].values\n",
    "            print(f'x.shape={x.shape}')\n",
    "        def load_as_y():\n",
    "            global y\n",
    "            y = df[list(selection.value)].values\n",
    "            print(f'y.shape={y.shape}')\n",
    "        def load_as_x_as_datetime():\n",
    "            global x\n",
    "            assert len(selection.value) == 1\n",
    "            x = pd.to_datetime(df[selection.value[0]]).values\n",
    "            print(f'x.shape={x.shape}')\n",
    "        button_load_as_x.on_click(wrapped_func_factory(load_as_x))\n",
    "        button_load_as_y.on_click(wrapped_func_factory(load_as_y))\n",
    "        button_load_as_x_as_datetime.on_click(wrapped_func_factory(load_as_x_as_datetime))\n",
    "        display(\n",
    "            widgets.HBox([selection,button_load_as_x,button_load_as_y,button_load_as_x_as_datetime]),\n",
    "            df)\n",
    "        \n",
    "    button_load_as_x_npy.on_click(wrapped_func_factory(load_npy_factory('x')))\n",
    "    button_load_as_y_npy.on_click(wrapped_func_factory(load_npy_factory('y')))\n",
    "    button_load_as_x_txt.on_click(wrapped_func_factory(load_txt_factory('x')))\n",
    "    button_load_as_y_txt.on_click(wrapped_func_factory(load_txt_factory('y')))\n",
    "    button_load_csv_dialog.on_click(wrapped_func_factory(load_csv_dialog))\n",
    "    button_x_transpose.on_click(wrapped_func_factory(transpose_factory('x')))\n",
    "    button_y_transpose.on_click(wrapped_func_factory(transpose_factory('y')))\n",
    "\n",
    "\n",
    "    def load_input_field():\n",
    "        global xlabel\n",
    "        global ylabel\n",
    "        global title\n",
    "        global xlim_high, xlim_low\n",
    "        global ylim_high, ylim_low\n",
    "        xlabel = text_xlabel.value\n",
    "        ylabel = text_ylabel.value\n",
    "        title = text_title.value\n",
    "        lims = [text_xlim_high.value, text_xlim_low.value, text_ylim_high.value, text_ylim_low.value]\n",
    "        xlim_high, xlim_low, ylim_high, ylim_low = [float(i) if i !='None' else None for i in lims]\n",
    "    button_input_field.on_click(lambda button: load_input_field())\n",
    "\n",
    "    display(\n",
    "        widgets.HBox([button_clear_output, button_init_fig, button_set_label_title ,button_set_axis_lim,button_set_autoscale , button_show_fig]),\n",
    "        widgets.HBox([button_add_line_y,button_add_line_xy, button_add_scatter_y, button_add_scatter_xy]),\n",
    "        widgets.HBox([filechooser,button_load_as_x_npy, button_load_as_y_npy]),\n",
    "        widgets.HBox([button_load_as_x_txt,button_load_as_y_txt,button_load_csv_dialog]),\n",
    "        widgets.HBox([text_xlabel, text_ylabel, text_title ,button_input_field]),\n",
    "        widgets.HBox([text_xlim_low,text_xlim_high, text_ylim_low, text_ylim_high]),\n",
    "        widgets.HBox([button_x_transpose,button_y_transpose]),\n",
    "        output,)\n"
   ]
  },
  {
   "cell_type": "code",
   "execution_count": 19,
   "metadata": {},
   "outputs": [
    {
     "data": {
      "application/vnd.jupyter.widget-view+json": {
       "model_id": "03972bcba3d14b88bbefc0427a2aa85c",
       "version_major": 2,
       "version_minor": 0
      },
      "text/plain": [
       "HBox(children=(Button(description='表示クリア', style=ButtonStyle()), Button(description='初期化', style=ButtonStyle()…"
      ]
     },
     "metadata": {},
     "output_type": "display_data"
    },
    {
     "data": {
      "application/vnd.jupyter.widget-view+json": {
       "model_id": "be6d1b4032bf4619bf75838b1efc15d0",
       "version_major": 2,
       "version_minor": 0
      },
      "text/plain": [
       "HBox(children=(Button(description='プロット(y)', style=ButtonStyle()), Button(description='プロット(x,y)', style=Butto…"
      ]
     },
     "metadata": {},
     "output_type": "display_data"
    },
    {
     "data": {
      "application/vnd.jupyter.widget-view+json": {
       "model_id": "6f6fb73b73b74c98be05c57e2c0ed86a",
       "version_major": 2,
       "version_minor": 0
      },
      "text/plain": [
       "HBox(children=(FileChooser(path='C:\\Users\\ruofan\\storage\\advanced_ui', filename='', title='', show_hidden=Fals…"
      ]
     },
     "metadata": {},
     "output_type": "display_data"
    },
    {
     "data": {
      "application/vnd.jupyter.widget-view+json": {
       "model_id": "821b454043864242978e19fa435f29cb",
       "version_major": 2,
       "version_minor": 0
      },
      "text/plain": [
       "HBox(children=(Button(description='x.txt読込', style=ButtonStyle()), Button(description='y.txt読込', style=ButtonS…"
      ]
     },
     "metadata": {},
     "output_type": "display_data"
    },
    {
     "data": {
      "application/vnd.jupyter.widget-view+json": {
       "model_id": "0cbdd00eb1194a32bfae2cddc67e6473",
       "version_major": 2,
       "version_minor": 0
      },
      "text/plain": [
       "HBox(children=(Text(value='', description='xlabel'), Text(value='', description='ylabel'), Text(value='', desc…"
      ]
     },
     "metadata": {},
     "output_type": "display_data"
    },
    {
     "data": {
      "application/vnd.jupyter.widget-view+json": {
       "model_id": "62185f74aa6e4753b58460b447e7841e",
       "version_major": 2,
       "version_minor": 0
      },
      "text/plain": [
       "HBox(children=(Text(value='None', description='xlim_low'), Text(value='None', description='xlim_high'), Text(v…"
      ]
     },
     "metadata": {},
     "output_type": "display_data"
    },
    {
     "data": {
      "application/vnd.jupyter.widget-view+json": {
       "model_id": "f5db96a892164fbfaf14d711556fc55e",
       "version_major": 2,
       "version_minor": 0
      },
      "text/plain": [
       "HBox(children=(Button(description='x転置', style=ButtonStyle()), Button(description='y転置', style=ButtonStyle()))…"
      ]
     },
     "metadata": {},
     "output_type": "display_data"
    },
    {
     "data": {
      "application/vnd.jupyter.widget-view+json": {
       "model_id": "0a85fb8f110646a79543acaa33f51aa4",
       "version_major": 2,
       "version_minor": 0
      },
      "text/plain": [
       "Output()"
      ]
     },
     "metadata": {},
     "output_type": "display_data"
    }
   ],
   "source": [
    "simple_ui()"
   ]
  },
  {
   "cell_type": "code",
   "execution_count": null,
   "metadata": {},
   "outputs": [],
   "source": []
  }
 ],
 "metadata": {
  "kernelspec": {
   "display_name": "Python 3.9.0 64-bit",
   "language": "python",
   "name": "python3"
  },
  "language_info": {
   "codemirror_mode": {
    "name": "ipython",
    "version": 3
   },
   "file_extension": ".py",
   "mimetype": "text/x-python",
   "name": "python",
   "nbconvert_exporter": "python",
   "pygments_lexer": "ipython3",
   "version": "3.9.0"
  },
  "orig_nbformat": 4,
  "vscode": {
   "interpreter": {
    "hash": "4b4f216789f43f43ecc591a377bc2a7b5f02c99d00f656b444c8198c606cc60c"
   }
  }
 },
 "nbformat": 4,
 "nbformat_minor": 2
}
